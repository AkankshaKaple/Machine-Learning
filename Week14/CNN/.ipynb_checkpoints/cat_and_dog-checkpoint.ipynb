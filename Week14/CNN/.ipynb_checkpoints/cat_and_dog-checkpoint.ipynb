{
 "cells": [
  {
   "cell_type": "code",
   "execution_count": 14,
   "metadata": {},
   "outputs": [],
   "source": [
    "#Importing libraries\n",
    "from keras.models import Sequential\n",
    "from keras.layers import Convolution2D, Flatten, MaxPooling2D, Dense"
   ]
  },
  {
   "cell_type": "code",
   "execution_count": 15,
   "metadata": {},
   "outputs": [],
   "source": [
    "#Initialozing CNN\n",
    "classifier = Sequential()"
   ]
  },
  {
   "cell_type": "code",
   "execution_count": 16,
   "metadata": {},
   "outputs": [
    {
     "name": "stderr",
     "output_type": "stream",
     "text": [
      "/home/shadowk/anaconda3/lib/python3.7/site-packages/ipykernel_launcher.py:2: UserWarning: Update your `Conv2D` call to the Keras 2 API: `Conv2D(32, (3, 3), input_shape=(64, 64, 3..., activation=\"relu\")`\n",
      "  \n"
     ]
    }
   ],
   "source": [
    "#step 1 -- Convolution \n",
    "classifier.add(Convolution2D(32, 3, 3, input_shape = (64, 64, 3), activation ='relu'))"
   ]
  },
  {
   "cell_type": "code",
   "execution_count": 17,
   "metadata": {},
   "outputs": [],
   "source": [
    " #Step 2 -- Pooling\n",
    "classifier.add(MaxPooling2D(pool_size = (2,2)))"
   ]
  },
  {
   "cell_type": "code",
   "execution_count": 18,
   "metadata": {},
   "outputs": [
    {
     "name": "stderr",
     "output_type": "stream",
     "text": [
      "/home/shadowk/anaconda3/lib/python3.7/site-packages/ipykernel_launcher.py:2: UserWarning: Update your `Conv2D` call to the Keras 2 API: `Conv2D(32, (3, 3), activation=\"relu\")`\n",
      "  \n"
     ]
    }
   ],
   "source": [
    "#Adding extra convolution layer\n",
    "classifier.add(Convolution2D(32, 3, 3, activation ='relu'))\n",
    "classifier.add(MaxPooling2D(pool_size = (2,2)))"
   ]
  },
  {
   "cell_type": "code",
   "execution_count": 19,
   "metadata": {},
   "outputs": [],
   "source": [
    "#Step 3 -- Flattening \n",
    "classifier.add(Flatten())"
   ]
  },
  {
   "cell_type": "code",
   "execution_count": 20,
   "metadata": {},
   "outputs": [
    {
     "name": "stderr",
     "output_type": "stream",
     "text": [
      "/home/shadowk/anaconda3/lib/python3.7/site-packages/ipykernel_launcher.py:2: UserWarning: Update your `Dense` call to the Keras 2 API: `Dense(activation=\"relu\", units=128)`\n",
      "  \n",
      "/home/shadowk/anaconda3/lib/python3.7/site-packages/ipykernel_launcher.py:3: UserWarning: Update your `Dense` call to the Keras 2 API: `Dense(activation=\"sigmoid\", units=1)`\n",
      "  This is separate from the ipykernel package so we can avoid doing imports until\n"
     ]
    }
   ],
   "source": [
    "#Step 4 -- Full Connected\n",
    "classifier.add(Dense(output_dim = 128, activation = 'relu'))\n",
    "classifier.add(Dense(output_dim = 1, activation = 'sigmoid'))"
   ]
  },
  {
   "cell_type": "code",
   "execution_count": 21,
   "metadata": {},
   "outputs": [],
   "source": [
    "# Compiling the CNN\n",
    "classifier.compile(optimizer = 'adam', loss = 'binary_crossentropy', metrics = ['accuracy'])"
   ]
  },
  {
   "cell_type": "code",
   "execution_count": 22,
   "metadata": {},
   "outputs": [
    {
     "name": "stdout",
     "output_type": "stream",
     "text": [
      "Found 8000 images belonging to 2 classes.\n",
      "Found 2000 images belonging to 2 classes.\n"
     ]
    },
    {
     "name": "stderr",
     "output_type": "stream",
     "text": [
      "/home/shadowk/anaconda3/lib/python3.7/site-packages/ipykernel_launcher.py:23: UserWarning: The semantics of the Keras 2 argument `steps_per_epoch` is not the same as the Keras 1 argument `samples_per_epoch`. `steps_per_epoch` is the number of batches to draw from the generator at each epoch. Basically steps_per_epoch = samples_per_epoch/batch_size. Similarly `nb_val_samples`->`validation_steps` and `val_samples`->`steps` arguments have changed. Update your method calls accordingly.\n",
      "/home/shadowk/anaconda3/lib/python3.7/site-packages/ipykernel_launcher.py:23: UserWarning: Update your `fit_generator` call to the Keras 2 API: `fit_generator(<keras_pre..., validation_data=<keras_pre..., steps_per_epoch=250, epochs=25, validation_steps=2000)`\n"
     ]
    },
    {
     "name": "stdout",
     "output_type": "stream",
     "text": [
      "Epoch 1/25\n",
      "250/250 [==============================] - 295s 1s/step - loss: 0.6630 - acc: 0.5958 - val_loss: 0.6126 - val_acc: 0.6709\n",
      "Epoch 2/25\n",
      "250/250 [==============================] - 294s 1s/step - loss: 0.5897 - acc: 0.6856 - val_loss: 0.5551 - val_acc: 0.7186\n",
      "Epoch 3/25\n",
      "250/250 [==============================] - 292s 1s/step - loss: 0.5476 - acc: 0.7206 - val_loss: 0.5311 - val_acc: 0.7376\n",
      "Epoch 4/25\n",
      "250/250 [==============================] - 297s 1s/step - loss: 0.5192 - acc: 0.7459 - val_loss: 0.5185 - val_acc: 0.7510\n",
      "Epoch 5/25\n",
      "250/250 [==============================] - 484s 2s/step - loss: 0.4913 - acc: 0.7571 - val_loss: 0.4982 - val_acc: 0.7668\n",
      "Epoch 6/25\n",
      "250/250 [==============================] - 362s 1s/step - loss: 0.4729 - acc: 0.7699 - val_loss: 0.4975 - val_acc: 0.7596\n",
      "Epoch 7/25\n",
      "250/250 [==============================] - 292s 1s/step - loss: 0.4457 - acc: 0.7902 - val_loss: 0.4876 - val_acc: 0.7734\n",
      "Epoch 8/25\n",
      "250/250 [==============================] - 312s 1s/step - loss: 0.4357 - acc: 0.7970 - val_loss: 0.4746 - val_acc: 0.7794\n",
      "Epoch 9/25\n",
      "250/250 [==============================] - 469s 2s/step - loss: 0.4167 - acc: 0.8070 - val_loss: 0.4537 - val_acc: 0.7952\n",
      "Epoch 10/25\n",
      "250/250 [==============================] - 300s 1s/step - loss: 0.3989 - acc: 0.8171 - val_loss: 0.4684 - val_acc: 0.7918\n",
      "Epoch 11/25\n",
      "250/250 [==============================] - 290s 1s/step - loss: 0.3901 - acc: 0.8183 - val_loss: 0.4696 - val_acc: 0.7895\n",
      "Epoch 12/25\n",
      "250/250 [==============================] - 293s 1s/step - loss: 0.3816 - acc: 0.8247 - val_loss: 0.4757 - val_acc: 0.7894\n",
      "Epoch 13/25\n",
      "250/250 [==============================] - 289s 1s/step - loss: 0.3572 - acc: 0.8394 - val_loss: 0.4794 - val_acc: 0.7838\n",
      "Epoch 14/25\n",
      "250/250 [==============================] - 288s 1s/step - loss: 0.3483 - acc: 0.8434 - val_loss: 0.4642 - val_acc: 0.7861\n",
      "Epoch 15/25\n",
      "250/250 [==============================] - 289s 1s/step - loss: 0.3300 - acc: 0.8538 - val_loss: 0.4562 - val_acc: 0.8009\n",
      "Epoch 16/25\n",
      "250/250 [==============================] - 296s 1s/step - loss: 0.3259 - acc: 0.8560 - val_loss: 0.4734 - val_acc: 0.7992\n",
      "Epoch 17/25\n",
      "250/250 [==============================] - 289s 1s/step - loss: 0.2969 - acc: 0.8749 - val_loss: 0.5429 - val_acc: 0.7633\n",
      "Epoch 18/25\n",
      "250/250 [==============================] - 287s 1s/step - loss: 0.2935 - acc: 0.8749 - val_loss: 0.5070 - val_acc: 0.7913\n",
      "Epoch 19/25\n",
      "250/250 [==============================] - 287s 1s/step - loss: 0.2813 - acc: 0.8802 - val_loss: 0.5207 - val_acc: 0.7852\n",
      "Epoch 20/25\n",
      "250/250 [==============================] - 288s 1s/step - loss: 0.2658 - acc: 0.8920 - val_loss: 0.4956 - val_acc: 0.7891\n",
      "Epoch 21/25\n",
      "250/250 [==============================] - 287s 1s/step - loss: 0.2442 - acc: 0.8992 - val_loss: 0.5211 - val_acc: 0.7985\n",
      "Epoch 22/25\n",
      "250/250 [==============================] - 287s 1s/step - loss: 0.2385 - acc: 0.9022 - val_loss: 0.5048 - val_acc: 0.7936\n",
      "Epoch 23/25\n",
      "250/250 [==============================] - 289s 1s/step - loss: 0.2344 - acc: 0.9020 - val_loss: 0.5314 - val_acc: 0.8040\n",
      "Epoch 24/25\n",
      "250/250 [==============================] - 289s 1s/step - loss: 0.2192 - acc: 0.9098 - val_loss: 0.5322 - val_acc: 0.7998\n",
      "Epoch 25/25\n",
      "250/250 [==============================] - 292s 1s/step - loss: 0.2106 - acc: 0.9155 - val_loss: 0.5132 - val_acc: 0.7991\n"
     ]
    },
    {
     "data": {
      "text/plain": [
       "<keras.callbacks.History at 0x7f9346f0ea20>"
      ]
     },
     "execution_count": 22,
     "metadata": {},
     "output_type": "execute_result"
    }
   ],
   "source": [
    "# Fitting the CNN to the images\n",
    "from keras.preprocessing.image import ImageDataGenerator\n",
    "\n",
    "train_datagen = ImageDataGenerator(\n",
    "                                    rescale = 1./255,\n",
    "                                    shear_range = 0.2,\n",
    "                                    zoom_range = 0.2,\n",
    "                                    horizontal_flip = True)\n",
    "\n",
    "test_datagen = ImageDataGenerator(rescale = 1./255)\n",
    "\n",
    "training_set = train_datagen.flow_from_directory('dataset/training_set',\n",
    "                                                   target_size = (64, 64), \n",
    "                                                   batch_size = 32,\n",
    "                                                   class_mode = 'binary')\n",
    "\n",
    "test_set = train_datagen.flow_from_directory('dataset/test_set',\n",
    "                                                        target_size = (64, 64),\n",
    "                                                        batch_size = 32,\n",
    "                                                        class_mode = 'binary')\n",
    "\n",
    "classifier.fit_generator(training_set, samples_per_epoch = 8000, nb_epoch = 25, \n",
    "                   validation_data = test_set, nb_val_samples = 2000)"
   ]
  },
  {
   "cell_type": "code",
   "execution_count": null,
   "metadata": {},
   "outputs": [],
   "source": []
  }
 ],
 "metadata": {
  "kernelspec": {
   "display_name": "Python 3",
   "language": "python",
   "name": "python3"
  },
  "language_info": {
   "codemirror_mode": {
    "name": "ipython",
    "version": 3
   },
   "file_extension": ".py",
   "mimetype": "text/x-python",
   "name": "python",
   "nbconvert_exporter": "python",
   "pygments_lexer": "ipython3",
   "version": "3.7.1"
  }
 },
 "nbformat": 4,
 "nbformat_minor": 2
}
