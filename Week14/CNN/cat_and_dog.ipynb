{
 "cells": [
  {
   "cell_type": "code",
   "execution_count": 1,
   "metadata": {},
   "outputs": [
    {
     "name": "stderr",
     "output_type": "stream",
     "text": [
      "Using TensorFlow backend.\n"
     ]
    }
   ],
   "source": [
    "#Importing libraries\n",
    "from keras.models import Sequential\n",
    "from keras.layers import Convolution2D, Flatten, MaxPooling2D, Dense\n",
    "import warnings \n",
    "warnings.filterwarnings('ignore')"
   ]
  },
  {
   "cell_type": "code",
   "execution_count": 2,
   "metadata": {},
   "outputs": [],
   "source": [
    "#Initialozing CNN\n",
    "classifier = Sequential()"
   ]
  },
  {
   "cell_type": "code",
   "execution_count": 3,
   "metadata": {},
   "outputs": [
    {
     "name": "stdout",
     "output_type": "stream",
     "text": [
      "WARNING:tensorflow:From /home/shadowk/anaconda3/lib/python3.7/site-packages/tensorflow/python/framework/op_def_library.py:263: colocate_with (from tensorflow.python.framework.ops) is deprecated and will be removed in a future version.\n",
      "Instructions for updating:\n",
      "Colocations handled automatically by placer.\n"
     ]
    }
   ],
   "source": [
    "#step 1 -- Convolution \n",
    "classifier.add(Convolution2D(32, 3, 3, input_shape = (64, 64, 3), activation ='relu'))"
   ]
  },
  {
   "cell_type": "code",
   "execution_count": 4,
   "metadata": {},
   "outputs": [],
   "source": [
    " #Step 2 -- Pooling\n",
    "classifier.add(MaxPooling2D(pool_size = (2,2)))"
   ]
  },
  {
   "cell_type": "code",
   "execution_count": 5,
   "metadata": {},
   "outputs": [],
   "source": [
    "#Adding extra convolution layer\n",
    "classifier.add(Convolution2D(32, 3, 3, activation ='relu'))\n",
    "classifier.add(MaxPooling2D(pool_size = (2,2)))"
   ]
  },
  {
   "cell_type": "code",
   "execution_count": 6,
   "metadata": {},
   "outputs": [],
   "source": [
    "#Step 3 -- Flattening \n",
    "classifier.add(Flatten())"
   ]
  },
  {
   "cell_type": "code",
   "execution_count": 7,
   "metadata": {},
   "outputs": [],
   "source": [
    "#Step 4 -- Full Connected\n",
    "classifier.add(Dense(output_dim = 128, activation = 'relu'))\n",
    "classifier.add(Dense(output_dim = 1, activation = 'sigmoid'))"
   ]
  },
  {
   "cell_type": "code",
   "execution_count": 8,
   "metadata": {},
   "outputs": [],
   "source": [
    "# Compiling the CNN\n",
    "classifier.compile(optimizer = 'adam', loss = 'binary_crossentropy', metrics = ['accuracy'])"
   ]
  },
  {
   "cell_type": "code",
   "execution_count": 9,
   "metadata": {},
   "outputs": [
    {
     "name": "stdout",
     "output_type": "stream",
     "text": [
      "Found 8000 images belonging to 2 classes.\n",
      "Found 2000 images belonging to 2 classes.\n",
      "WARNING:tensorflow:From /home/shadowk/anaconda3/lib/python3.7/site-packages/tensorflow/python/ops/math_ops.py:3066: to_int32 (from tensorflow.python.ops.math_ops) is deprecated and will be removed in a future version.\n",
      "Instructions for updating:\n",
      "Use tf.cast instead.\n",
      "Epoch 1/25\n",
      "250/250 [==============================] - 420s 2s/step - loss: 0.6750 - acc: 0.5681 - val_loss: 0.6278 - val_acc: 0.6494\n",
      "Epoch 2/25\n",
      "250/250 [==============================] - 395s 2s/step - loss: 0.5972 - acc: 0.6835 - val_loss: 0.5680 - val_acc: 0.7122\n",
      "Epoch 3/25\n",
      "250/250 [==============================] - 379s 2s/step - loss: 0.5564 - acc: 0.7136 - val_loss: 0.5460 - val_acc: 0.7296\n",
      "Epoch 4/25\n",
      "250/250 [==============================] - 376s 2s/step - loss: 0.5299 - acc: 0.7337 - val_loss: 0.5200 - val_acc: 0.7440\n",
      "Epoch 5/25\n",
      "250/250 [==============================] - 425s 2s/step - loss: 0.5140 - acc: 0.7431 - val_loss: 0.5174 - val_acc: 0.7476\n",
      "Epoch 6/25\n",
      "250/250 [==============================] - 415s 2s/step - loss: 0.4967 - acc: 0.7599 - val_loss: 0.5040 - val_acc: 0.7532\n",
      "Epoch 7/25\n",
      "250/250 [==============================] - 384s 2s/step - loss: 0.4768 - acc: 0.7688 - val_loss: 0.4912 - val_acc: 0.7621\n",
      "Epoch 8/25\n",
      "250/250 [==============================] - 374s 1s/step - loss: 0.4635 - acc: 0.7776 - val_loss: 0.5157 - val_acc: 0.7466\n",
      "Epoch 9/25\n",
      "250/250 [==============================] - 387s 2s/step - loss: 0.4579 - acc: 0.7827 - val_loss: 0.4707 - val_acc: 0.7762\n",
      "Epoch 10/25\n",
      "250/250 [==============================] - 393s 2s/step - loss: 0.4480 - acc: 0.7835 - val_loss: 0.4799 - val_acc: 0.7743\n",
      "Epoch 11/25\n",
      "250/250 [==============================] - 405s 2s/step - loss: 0.4308 - acc: 0.7979 - val_loss: 0.5447 - val_acc: 0.7339\n",
      "Epoch 12/25\n",
      "250/250 [==============================] - 431s 2s/step - loss: 0.4329 - acc: 0.8009 - val_loss: 0.4605 - val_acc: 0.7889\n",
      "Epoch 13/25\n",
      "250/250 [==============================] - 404s 2s/step - loss: 0.4160 - acc: 0.8080 - val_loss: 0.4469 - val_acc: 0.7976\n",
      "Epoch 14/25\n",
      "250/250 [==============================] - 370s 1s/step - loss: 0.4056 - acc: 0.8124 - val_loss: 0.4461 - val_acc: 0.7960\n",
      "Epoch 15/25\n",
      "250/250 [==============================] - 425s 2s/step - loss: 0.3867 - acc: 0.8183 - val_loss: 0.4852 - val_acc: 0.7742\n",
      "Epoch 16/25\n",
      "250/250 [==============================] - 392s 2s/step - loss: 0.3847 - acc: 0.8239 - val_loss: 0.4560 - val_acc: 0.7908\n",
      "Epoch 17/25\n",
      "250/250 [==============================] - 383s 2s/step - loss: 0.3812 - acc: 0.8220 - val_loss: 0.4272 - val_acc: 0.8036\n",
      "Epoch 18/25\n",
      "250/250 [==============================] - 383s 2s/step - loss: 0.3671 - acc: 0.8297 - val_loss: 0.4561 - val_acc: 0.7915\n",
      "Epoch 19/25\n",
      "250/250 [==============================] - 395s 2s/step - loss: 0.3673 - acc: 0.8340 - val_loss: 0.4933 - val_acc: 0.7716\n",
      "Epoch 20/25\n",
      "250/250 [==============================] - 411s 2s/step - loss: 0.3533 - acc: 0.8415 - val_loss: 0.4348 - val_acc: 0.8079\n",
      "Epoch 21/25\n",
      "250/250 [==============================] - 414s 2s/step - loss: 0.3461 - acc: 0.8430 - val_loss: 0.4528 - val_acc: 0.8035\n",
      "Epoch 22/25\n",
      "250/250 [==============================] - 370s 1s/step - loss: 0.3459 - acc: 0.8458 - val_loss: 0.4262 - val_acc: 0.8098\n",
      "Epoch 23/25\n",
      "250/250 [==============================] - 366s 1s/step - loss: 0.3363 - acc: 0.8481 - val_loss: 0.4385 - val_acc: 0.8093\n",
      "Epoch 24/25\n",
      "250/250 [==============================] - 381s 2s/step - loss: 0.3275 - acc: 0.8568 - val_loss: 0.4570 - val_acc: 0.8011\n",
      "Epoch 25/25\n",
      "250/250 [==============================] - 397s 2s/step - loss: 0.3197 - acc: 0.8589 - val_loss: 0.4564 - val_acc: 0.7964\n"
     ]
    },
    {
     "data": {
      "text/plain": [
       "<keras.callbacks.History at 0x7fecfcbafd68>"
      ]
     },
     "execution_count": 9,
     "metadata": {},
     "output_type": "execute_result"
    }
   ],
   "source": [
    "# Fitting the CNN to the images\n",
    "from keras.preprocessing.image import ImageDataGenerator\n",
    "\n",
    "train_datagen = ImageDataGenerator(\n",
    "                                    rescale = 1./255,\n",
    "                                    shear_range = 0.2,\n",
    "                                    zoom_range = 0.2,\n",
    "                                    horizontal_flip = True)\n",
    "\n",
    "test_datagen = ImageDataGenerator(rescale = 1./255)\n",
    "\n",
    "training_set = train_datagen.flow_from_directory('dataset/training_set',\n",
    "                                                   target_size = (64, 64), \n",
    "                                                   batch_size = 32,\n",
    "                                                   class_mode = 'binary')\n",
    "\n",
    "test_set = train_datagen.flow_from_directory('dataset/test_set',\n",
    "                                                        target_size = (64, 64),\n",
    "                                                        batch_size = 32,\n",
    "                                                        class_mode = 'binary')\n",
    "\n",
    "classifier.fit_generator(training_set, samples_per_epoch = 8000, nb_epoch = 25, \n",
    "                   validation_data = test_set, nb_val_samples = 2000)"
   ]
  },
  {
   "cell_type": "code",
   "execution_count": null,
   "metadata": {},
   "outputs": [],
   "source": []
  }
 ],
 "metadata": {
  "kernelspec": {
   "display_name": "Python 3",
   "language": "python",
   "name": "python3"
  },
  "language_info": {
   "codemirror_mode": {
    "name": "ipython",
    "version": 3
   },
   "file_extension": ".py",
   "mimetype": "text/x-python",
   "name": "python",
   "nbconvert_exporter": "python",
   "pygments_lexer": "ipython3",
   "version": "3.7.1"
  }
 },
 "nbformat": 4,
 "nbformat_minor": 2
}
