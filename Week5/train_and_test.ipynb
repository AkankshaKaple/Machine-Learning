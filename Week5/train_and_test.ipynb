{
 "cells": [
  {
   "cell_type": "code",
   "execution_count": 31,
   "metadata": {},
   "outputs": [],
   "source": [
    "import numpy as np\n",
    "import pandas as pd\n",
    "import matplotlib.pyplot as plt\n",
    "import seaborn as sb\n",
    "%matplotlib inline"
   ]
  },
  {
   "cell_type": "code",
   "execution_count": 32,
   "metadata": {},
   "outputs": [],
   "source": [
    "train_data = pd.read_csv(\"train.csv\")\n",
    "test_data = pd.read_csv(\"test.csv\")"
   ]
  },
  {
   "cell_type": "code",
   "execution_count": 33,
   "metadata": {},
   "outputs": [
    {
     "data": {
      "text/html": [
       "<div>\n",
       "<table border=\"1\" class=\"dataframe\">\n",
       "  <thead>\n",
       "    <tr style=\"text-align: right;\">\n",
       "      <th></th>\n",
       "      <th>x</th>\n",
       "      <th>y</th>\n",
       "    </tr>\n",
       "  </thead>\n",
       "  <tbody>\n",
       "    <tr>\n",
       "      <th>0</th>\n",
       "      <td>24.0</td>\n",
       "      <td>21.549452</td>\n",
       "    </tr>\n",
       "    <tr>\n",
       "      <th>1</th>\n",
       "      <td>50.0</td>\n",
       "      <td>47.464463</td>\n",
       "    </tr>\n",
       "    <tr>\n",
       "      <th>2</th>\n",
       "      <td>15.0</td>\n",
       "      <td>17.218656</td>\n",
       "    </tr>\n",
       "    <tr>\n",
       "      <th>3</th>\n",
       "      <td>38.0</td>\n",
       "      <td>36.586398</td>\n",
       "    </tr>\n",
       "    <tr>\n",
       "      <th>4</th>\n",
       "      <td>87.0</td>\n",
       "      <td>87.288984</td>\n",
       "    </tr>\n",
       "  </tbody>\n",
       "</table>\n",
       "</div>"
      ],
      "text/plain": [
       "      x          y\n",
       "0  24.0  21.549452\n",
       "1  50.0  47.464463\n",
       "2  15.0  17.218656\n",
       "3  38.0  36.586398\n",
       "4  87.0  87.288984"
      ]
     },
     "execution_count": 33,
     "metadata": {},
     "output_type": "execute_result"
    }
   ],
   "source": [
    "train_data.head()"
   ]
  },
  {
   "cell_type": "code",
   "execution_count": 63,
   "metadata": {},
   "outputs": [
    {
     "data": {
      "image/png": "[encoded data removed]",
      "text/plain": [
       "<matplotlib.figure.Figure at 0x7f737e911160>"
      ]
     },
     "metadata": {},
     "output_type": "display_data"
    }
   ],
   "source": [
    "plt.scatter(train_data['x'], train_data['y'])\n",
    "plt.show()"
   ]
  },
  {
   "cell_type": "code",
   "execution_count": null,
   "metadata": {},
   "outputs": [],
   "source": [
    "test_data.head()"
   ]
  },
  {
   "cell_type": "code",
   "execution_count": 34,
   "metadata": {},
   "outputs": [
    {
     "data": {
      "text/plain": [
       "<bound method NDFrame.describe of          x           y\n",
       "0     24.0   21.549452\n",
       "1     50.0   47.464463\n",
       "2     15.0   17.218656\n",
       "3     38.0   36.586398\n",
       "4     87.0   87.288984\n",
       "5     36.0   32.463875\n",
       "6     12.0   10.780897\n",
       "7     81.0   80.763399\n",
       "8     25.0   24.612151\n",
       "9      5.0    6.963319\n",
       "10    16.0   11.237573\n",
       "11    16.0   13.532902\n",
       "12    24.0   24.603239\n",
       "13    39.0   39.400500\n",
       "14    54.0   48.437538\n",
       "15    60.0   61.699003\n",
       "16    26.0   26.928324\n",
       "17    73.0   70.405206\n",
       "18    29.0   29.340924\n",
       "19    31.0   25.308952\n",
       "20    68.0   69.029343\n",
       "21    87.0   84.994847\n",
       "22    58.0   57.043103\n",
       "23    54.0   50.592199\n",
       "24    84.0   83.027722\n",
       "25    58.0   57.057527\n",
       "26    49.0   47.958833\n",
       "27    20.0   24.342264\n",
       "28    90.0   94.684883\n",
       "29    48.0   48.039707\n",
       "..     ...         ...\n",
       "670   84.0   82.889358\n",
       "671   64.0   63.613650\n",
       "672   12.0   11.296272\n",
       "673   61.0   60.022749\n",
       "674   75.0   72.603393\n",
       "675   15.0   11.879646\n",
       "676  100.0  100.701274\n",
       "677   43.0   45.124208\n",
       "678   13.0   14.811068\n",
       "679   48.0   48.093680\n",
       "680   45.0   42.291457\n",
       "681   52.0   52.733898\n",
       "682   34.0   36.723970\n",
       "683   30.0   28.645352\n",
       "684   65.0   62.166753\n",
       "685  100.0   95.584595\n",
       "686   67.0   66.043253\n",
       "687   99.0   99.956622\n",
       "688   45.0   46.149420\n",
       "689   87.0   89.137550\n",
       "690   73.0   69.717878\n",
       "691    9.0   12.317366\n",
       "692   81.0   78.202963\n",
       "693   72.0   71.309954\n",
       "694   81.0   81.455447\n",
       "695   58.0   58.595006\n",
       "696   93.0   94.625094\n",
       "697   82.0   88.603770\n",
       "698   66.0   63.648685\n",
       "699   97.0   94.975266\n",
       "\n",
       "[700 rows x 2 columns]>"
      ]
     },
     "execution_count": 34,
     "metadata": {},
     "output_type": "execute_result"
    }
   ],
   "source": [
    "train_data.describe"
   ]
  },
  {
   "cell_type": "code",
   "execution_count": 35,
   "metadata": {},
   "outputs": [
    {
     "data": {
      "text/plain": [
       "x    float64\n",
       "y    float64\n",
       "dtype: object"
      ]
     },
     "execution_count": 35,
     "metadata": {},
     "output_type": "execute_result"
    }
   ],
   "source": [
    "train_data.dtypes"
   ]
  },
  {
   "cell_type": "code",
   "execution_count": 36,
   "metadata": {},
   "outputs": [
    {
     "data": {
      "text/plain": [
       "x    False\n",
       "y     True\n",
       "dtype: bool"
      ]
     },
     "execution_count": 36,
     "metadata": {},
     "output_type": "execute_result"
    }
   ],
   "source": [
    "# Check the null values in the dataset\n",
    "train_data.isnull().any()"
   ]
  },
  {
   "cell_type": "code",
   "execution_count": 62,
   "metadata": {},
   "outputs": [
    {
     "data": {
      "text/plain": [
       "x    False\n",
       "y    False\n",
       "dtype: bool"
      ]
     },
     "execution_count": 62,
     "metadata": {},
     "output_type": "execute_result"
    }
   ],
   "source": [
    "test_data.isnull().any()"
   ]
  },
  {
   "cell_type": "code",
   "execution_count": 37,
   "metadata": {},
   "outputs": [],
   "source": [
    "# Replace the nan values with mean of column 'x'\n",
    "train_data['x'] = train_data['x'].replace(np.NaN, train_data['x'].mean())"
   ]
  },
  {
   "cell_type": "code",
   "execution_count": 38,
   "metadata": {},
   "outputs": [],
   "source": [
    "# Replace the nan values with mean of column 'y'\n",
    "train_data['y'] = train_data['y'].replace(np.NaN, train_data['y'].mean())"
   ]
  },
  {
   "cell_type": "code",
   "execution_count": 39,
   "metadata": {},
   "outputs": [
    {
     "data": {
      "text/plain": [
       "x    False\n",
       "y    False\n",
       "dtype: bool"
      ]
     },
     "execution_count": 39,
     "metadata": {},
     "output_type": "execute_result"
    }
   ],
   "source": [
    "train_data.isnull().any()"
   ]
  },
  {
   "cell_type": "code",
   "execution_count": 40,
   "metadata": {},
   "outputs": [
    {
     "data": {
      "text/plain": [
       "<matplotlib.axes._subplots.AxesSubplot at 0x7f737ebc1f28>"
      ]
     },
     "execution_count": 40,
     "metadata": {},
     "output_type": "execute_result"
    },
    {
     "data": {
      "image/png": "[encoded data removed]",
      "text/plain": [
       "<matplotlib.figure.Figure at 0x7f737eb6b9e8>"
      ]
     },
     "metadata": {},
     "output_type": "display_data"
    }
   ],
   "source": [
    "# Boxplot to find the outliers in the column 'x'\n",
    "sb.boxplot(train_data['x'])"
   ]
  },
  {
   "cell_type": "code",
   "execution_count": 41,
   "metadata": {},
   "outputs": [
    {
     "data": {
      "text/plain": [
       "<matplotlib.axes._subplots.AxesSubplot at 0x7f737eba76a0>"
      ]
     },
     "execution_count": 41,
     "metadata": {},
     "output_type": "execute_result"
    },
    {
     "data": {
      "image/png": "[encoded data removed]",
      "text/plain": [
       "<matplotlib.figure.Figure at 0x7f737eafe518>"
      ]
     },
     "metadata": {},
     "output_type": "display_data"
    }
   ],
   "source": [
    "# Boxplot to find the outliers in the column 'y'\n",
    "sb.boxplot(train_data['y'])"
   ]
  },
  {
   "cell_type": "code",
   "execution_count": 56,
   "metadata": {},
   "outputs": [
    {
     "data": {
      "text/plain": [
       "<matplotlib.axes._subplots.AxesSubplot at 0x7f737edacac8>"
      ]
     },
     "execution_count": 56,
     "metadata": {},
     "output_type": "execute_result"
    },
    {
     "data": {
      "image/png": "[encoded data removed]",
      "text/plain": [
       "<matplotlib.figure.Figure at 0x7f737edbe828>"
      ]
     },
     "metadata": {},
     "output_type": "display_data"
    }
   ],
   "source": [
    "# Remove the outlier from the whole dataset\n",
    "def remove_outlier(data):\n",
    "    low = .25\n",
    "    high = .75\n",
    "    quant_df = data.quantile([low, high])\n",
    "    for name in list(data.columns):\n",
    "#         if is_numeric_dtype(data[name]):\n",
    "            data = data[(data[name] > quant_df.loc[low, name]) & (data[name] < quant_df.loc[high, name])]\n",
    "    return data\n",
    "\n",
    "train_data= remove_outlier(train_data)\n",
    "test_data = remove_outlier(test_data)\n",
    "sb.boxplot(train_data)"
   ]
  },
  {
   "cell_type": "code",
   "execution_count": 57,
   "metadata": {},
   "outputs": [
    {
     "name": "stderr",
     "output_type": "stream",
     "text": [
      "/home/admin1/anaconda3/lib/python3.5/site-packages/statsmodels/nonparametric/kdetools.py:20: VisibleDeprecationWarning: using a non-integer number instead of an integer will result in an error in the future\n",
      "  y = X[:m/2+1] + np.r_[0,X[m/2+1:],0]*1j\n"
     ]
    },
    {
     "data": {
      "text/plain": [
       "<matplotlib.axes._subplots.AxesSubplot at 0x7f737ece6080>"
      ]
     },
     "execution_count": 57,
     "metadata": {},
     "output_type": "execute_result"
    },
    {
     "data": {
      "image/png": "[encoded data removed]",
      "text/plain": [
       "<matplotlib.figure.Figure at 0x7f737ede5128>"
      ]
     },
     "metadata": {},
     "output_type": "display_data"
    }
   ],
   "source": [
    "# Distplot of the feature varibale\n",
    "sb.distplot(train_data['x'])"
   ]
  },
  {
   "cell_type": "code",
   "execution_count": 58,
   "metadata": {},
   "outputs": [
    {
     "name": "stderr",
     "output_type": "stream",
     "text": [
      "/home/admin1/anaconda3/lib/python3.5/site-packages/statsmodels/nonparametric/kdetools.py:20: VisibleDeprecationWarning: using a non-integer number instead of an integer will result in an error in the future\n",
      "  y = X[:m/2+1] + np.r_[0,X[m/2+1:],0]*1j\n"
     ]
    },
    {
     "data": {
      "text/plain": [
       "<matplotlib.axes._subplots.AxesSubplot at 0x7f737e5a8320>"
      ]
     },
     "execution_count": 58,
     "metadata": {},
     "output_type": "execute_result"
    },
    {
     "data": {
      "image/png": "[encoded data removed]",
      "text/plain": [
       "<matplotlib.figure.Figure at 0x7f737e4fc470>"
      ]
     },
     "metadata": {},
     "output_type": "display_data"
    }
   ],
   "source": [
    "# Distplot of the feature varibale\n",
    "sb.distplot(train_data['y'])"
   ]
  },
  {
   "cell_type": "code",
   "execution_count": 59,
   "metadata": {},
   "outputs": [
    {
     "name": "stdout",
     "output_type": "stream",
     "text": [
      "Mean is 6199608.368421053 , Median is  6250000.0\n"
     ]
    }
   ],
   "source": [
    "# Mean and median of the column 'x' \n",
    "print(\"Mean is\", train_data['x'].mean(), \", Median is \", train_data['x'].median())"
   ]
  },
  {
   "cell_type": "code",
   "execution_count": 60,
   "metadata": {},
   "outputs": [
    {
     "name": "stdout",
     "output_type": "stream",
     "text": [
      "Mean is 49.44403333136842 , Median is  48.97302037\n"
     ]
    }
   ],
   "source": [
    "# Mean and median of the column 'y' \n",
    "print(\"Mean is\", train_data['y'].mean(), \", Median is \", train_data['y'].median())"
   ]
  },
  {
   "cell_type": "code",
   "execution_count": 61,
   "metadata": {},
   "outputs": [
    {
     "name": "stdout",
     "output_type": "stream",
     "text": [
      "Skewness is 0.660615164916\n",
      "Mean is 40758896325018.055 , Median is  39062500000000.0 which shows that column data are skwed data\n"
     ]
    },
    {
     "name": "stderr",
     "output_type": "stream",
     "text": [
      "/home/admin1/anaconda3/lib/python3.5/site-packages/statsmodels/nonparametric/kdetools.py:20: VisibleDeprecationWarning: using a non-integer number instead of an integer will result in an error in the future\n",
      "  y = X[:m/2+1] + np.r_[0,X[m/2+1:],0]*1j\n"
     ]
    },
    {
     "data": {
      "image/png": "[encoded data removed]",
      "text/plain": [
       "<matplotlib.figure.Figure at 0x7f737e520b00>"
      ]
     },
     "metadata": {},
     "output_type": "display_data"
    }
   ],
   "source": [
    "# feature variable\n",
    "target = (np.square((train_data['x'])))\n",
    "print ('Skewness is', target.skew())\n",
    "print(\"Mean is\",target.mean(), \", Median is \", target.median(), \"which shows that column data are skwed data\")\n",
    "sb.distplot(target)\n",
    "train_data['x'] = target"
   ]
  },
  {
   "cell_type": "code",
   "execution_count": null,
   "metadata": {},
   "outputs": [],
   "source": []
  },
  {
   "cell_type": "code",
   "execution_count": 75,
   "metadata": {},
   "outputs": [],
   "source": [
    "class LinearRegression:\n",
    "    def __init__(self):\n",
    "        self.learning_rate = 0.1\n",
    "        self.iteration = 1000\n",
    "\n",
    "    def gradient_descent(self, x_data, y_data, slope = 0, intercept = 0):\n",
    "        N = len(y_data)\n",
    "\n",
    "        for i in range(N):\n",
    "            y_current = (slope * x_data) + intercept\n",
    "# \n",
    "            cost = sum([data**2 for data in (y_data - y_current)]) / N\n",
    "            intercept_grad = (-2/N)*sum(y_data - y_current)\n",
    "            slope_grad = (-2/N)*sum(x_data*(y_data - y_current))\n",
    "\n",
    "            slope -= self.learning_rate * slope_grad\n",
    "            intercept -= self.learning_rate * intercept_grad\n",
    "        print(\"COST = \", cost)\n",
    "\n",
    "        return slope, intercept, cost\n",
    "\n",
    "    def test(self, x_data, slope, intercept):\n",
    "        y_predict = [None]*len(x_data)\n",
    "        for i in range(len(x_data)):\n",
    "            y_predict[i] = slope*x_data[i] + intercept\n",
    "\n",
    "        return y_predict\n",
    "\n",
    "    def accuracy(self, y_data, y_predicted):\n",
    "        diff = 0\n",
    "        for i in range(len(y_data)):\n",
    "            diff += abs((y_predicted[i] - y_data[i])/y_data[i])\n",
    "\n",
    "        data_accuracy = diff*100\n",
    "        return data_accuracy\n",
    "\n",
    "def main():\n",
    "    lr = LinearRegression()\n",
    "    \n",
    "    x_train_data = np.array(train_data[\"x\"].values)\n",
    "    y_train_data = np.array(train_data[\"y\"].values)\n",
    "    \n",
    "    x_test_data = np.array(test_data[\"x\"])\n",
    "    y_test_data = np.array(test_data[\"y\"])\n",
    "\n",
    "    \n",
    "    theta_0_arr, theta_1_arr, cost_arr = lr.gradient_descent(x_train_data, y_train_data)\n",
    "    print(theta_0_arr, theta_1_arr)\n",
    "    \n",
    "    y_pred = lr.test(x_test_data, theta_0_arr, theta_1_arr)\n",
    "    \n",
    "    accuracy = lr.accuracy(y_test_data, y_pred)\n",
    "    print(\"Accuracy is \", accuracy)\n",
    "\n",
    "if __name__ == '__main__':\n",
    "    main()"
   ]
  }
 ],
 "metadata": {
  "kernelspec": {
   "display_name": "Python [anaconda3]",
   "language": "python",
   "name": "Python [anaconda3]"
  },
  "language_info": {
   "codemirror_mode": {
    "name": "ipython",
    "version": 3
   },
   "file_extension": ".py",
   "mimetype": "text/x-python",
   "name": "python",
   "nbconvert_exporter": "python",
   "pygments_lexer": "ipython3",
   "version": "3.5.2"
  }
 },
 "nbformat": 4,
 "nbformat_minor": 2
}
