{
 "cells": [
  {
   "cell_type": "code",
   "execution_count": 1,
   "metadata": {},
   "outputs": [],
   "source": [
    "import pandas as pd\n",
    "import numpy as np\n",
    "import matplotlib.pyplot as plt\n",
    "import seaborn as sb\n",
    "from pandas.api.types import is_numeric_dtype\n",
    "%matplotlib inline\n",
    "import warnings \n",
    "warnings.filterwarnings('ignore')"
   ]
  },
  {
   "cell_type": "code",
   "execution_count": 2,
   "metadata": {},
   "outputs": [
    {
     "data": {
      "text/plain": [
       "(96453, 12)"
      ]
     },
     "execution_count": 2,
     "metadata": {},
     "output_type": "execute_result"
    }
   ],
   "source": [
    "#read data\n",
    "\n",
    "data = pd.read_csv(\"weatherHistory.csv\")\n",
    "data.shape"
   ]
  },
  {
   "cell_type": "code",
   "execution_count": 3,
   "metadata": {},
   "outputs": [],
   "source": [
    "data.columns\n",
    "data = data.drop(['Formatted Date', 'Summary', 'Precip Type',\n",
    "       'Apparent Temperature (C)', 'Wind Speed (km/h)',\n",
    "       'Wind Bearing (degrees)', 'Visibility (km)', 'Loud Cover',\n",
    "       'Pressure (millibars)', 'Daily Summary'], axis=1)"
   ]
  },
  {
   "cell_type": "code",
   "execution_count": 4,
   "metadata": {},
   "outputs": [
    {
     "data": {
      "text/plain": [
       "Temperature (C)    float64\n",
       "Humidity           float64\n",
       "dtype: object"
      ]
     },
     "execution_count": 4,
     "metadata": {},
     "output_type": "execute_result"
    }
   ],
   "source": [
    "#getting data types of features\n",
    "data.dtypes"
   ]
  },
  {
   "cell_type": "code",
   "execution_count": 5,
   "metadata": {},
   "outputs": [
    {
     "data": {
      "text/html": [
       "<div>\n",
       "<style scoped>\n",
       "    .dataframe tbody tr th:only-of-type {\n",
       "        vertical-align: middle;\n",
       "    }\n",
       "\n",
       "    .dataframe tbody tr th {\n",
       "        vertical-align: top;\n",
       "    }\n",
       "\n",
       "    .dataframe thead th {\n",
       "        text-align: right;\n",
       "    }\n",
       "</style>\n",
       "<table border=\"1\" class=\"dataframe\">\n",
       "  <thead>\n",
       "    <tr style=\"text-align: right;\">\n",
       "      <th></th>\n",
       "      <th>Temperature (C)</th>\n",
       "      <th>Humidity</th>\n",
       "    </tr>\n",
       "  </thead>\n",
       "  <tbody>\n",
       "    <tr>\n",
       "      <th>0</th>\n",
       "      <td>9.472222</td>\n",
       "      <td>0.89</td>\n",
       "    </tr>\n",
       "    <tr>\n",
       "      <th>1</th>\n",
       "      <td>9.355556</td>\n",
       "      <td>0.86</td>\n",
       "    </tr>\n",
       "    <tr>\n",
       "      <th>2</th>\n",
       "      <td>9.377778</td>\n",
       "      <td>0.89</td>\n",
       "    </tr>\n",
       "    <tr>\n",
       "      <th>3</th>\n",
       "      <td>8.288889</td>\n",
       "      <td>0.83</td>\n",
       "    </tr>\n",
       "    <tr>\n",
       "      <th>4</th>\n",
       "      <td>8.755556</td>\n",
       "      <td>0.83</td>\n",
       "    </tr>\n",
       "  </tbody>\n",
       "</table>\n",
       "</div>"
      ],
      "text/plain": [
       "   Temperature (C)  Humidity\n",
       "0         9.472222      0.89\n",
       "1         9.355556      0.86\n",
       "2         9.377778      0.89\n",
       "3         8.288889      0.83\n",
       "4         8.755556      0.83"
      ]
     },
     "execution_count": 5,
     "metadata": {},
     "output_type": "execute_result"
    }
   ],
   "source": [
    "data.head()"
   ]
  },
  {
   "cell_type": "code",
   "execution_count": 6,
   "metadata": {},
   "outputs": [],
   "source": [
    "#rename the Temperature column with Temp.\n",
    "data.rename(columns= {\"Temperature (C)\": \"Temperature\"}, inplace=True)"
   ]
  },
  {
   "cell_type": "code",
   "execution_count": 7,
   "metadata": {},
   "outputs": [
    {
     "data": {
      "text/html": [
       "<div>\n",
       "<style scoped>\n",
       "    .dataframe tbody tr th:only-of-type {\n",
       "        vertical-align: middle;\n",
       "    }\n",
       "\n",
       "    .dataframe tbody tr th {\n",
       "        vertical-align: top;\n",
       "    }\n",
       "\n",
       "    .dataframe thead th {\n",
       "        text-align: right;\n",
       "    }\n",
       "</style>\n",
       "<table border=\"1\" class=\"dataframe\">\n",
       "  <thead>\n",
       "    <tr style=\"text-align: right;\">\n",
       "      <th></th>\n",
       "      <th>Temperature</th>\n",
       "      <th>Humidity</th>\n",
       "    </tr>\n",
       "  </thead>\n",
       "  <tbody>\n",
       "    <tr>\n",
       "      <th>count</th>\n",
       "      <td>96453.000000</td>\n",
       "      <td>96453.000000</td>\n",
       "    </tr>\n",
       "    <tr>\n",
       "      <th>mean</th>\n",
       "      <td>11.932678</td>\n",
       "      <td>0.734899</td>\n",
       "    </tr>\n",
       "    <tr>\n",
       "      <th>std</th>\n",
       "      <td>9.551546</td>\n",
       "      <td>0.195473</td>\n",
       "    </tr>\n",
       "    <tr>\n",
       "      <th>min</th>\n",
       "      <td>-21.822222</td>\n",
       "      <td>0.000000</td>\n",
       "    </tr>\n",
       "    <tr>\n",
       "      <th>25%</th>\n",
       "      <td>4.688889</td>\n",
       "      <td>0.600000</td>\n",
       "    </tr>\n",
       "    <tr>\n",
       "      <th>50%</th>\n",
       "      <td>12.000000</td>\n",
       "      <td>0.780000</td>\n",
       "    </tr>\n",
       "    <tr>\n",
       "      <th>75%</th>\n",
       "      <td>18.838889</td>\n",
       "      <td>0.890000</td>\n",
       "    </tr>\n",
       "    <tr>\n",
       "      <th>max</th>\n",
       "      <td>39.905556</td>\n",
       "      <td>1.000000</td>\n",
       "    </tr>\n",
       "  </tbody>\n",
       "</table>\n",
       "</div>"
      ],
      "text/plain": [
       "        Temperature      Humidity\n",
       "count  96453.000000  96453.000000\n",
       "mean      11.932678      0.734899\n",
       "std        9.551546      0.195473\n",
       "min      -21.822222      0.000000\n",
       "25%        4.688889      0.600000\n",
       "50%       12.000000      0.780000\n",
       "75%       18.838889      0.890000\n",
       "max       39.905556      1.000000"
      ]
     },
     "execution_count": 7,
     "metadata": {},
     "output_type": "execute_result"
    }
   ],
   "source": [
    "data.describe()"
   ]
  },
  {
   "cell_type": "code",
   "execution_count": 8,
   "metadata": {},
   "outputs": [
    {
     "name": "stdout",
     "output_type": "stream",
     "text": [
      "<class 'pandas.core.frame.DataFrame'>\n",
      "RangeIndex: 96453 entries, 0 to 96452\n",
      "Data columns (total 2 columns):\n",
      "Temperature    96453 non-null float64\n",
      "Humidity       96453 non-null float64\n",
      "dtypes: float64(2)\n",
      "memory usage: 1.5 MB\n"
     ]
    }
   ],
   "source": [
    "data.info()"
   ]
  },
  {
   "cell_type": "code",
   "execution_count": 9,
   "metadata": {},
   "outputs": [],
   "source": [
    "#converting celcius into farenheit\n",
    "data['Temperature'] = (data['Temperature'] * 9/5) + 32"
   ]
  },
  {
   "cell_type": "code",
   "execution_count": 10,
   "metadata": {},
   "outputs": [
    {
     "data": {
      "text/plain": [
       "Temperature    False\n",
       "Humidity       False\n",
       "dtype: bool"
      ]
     },
     "execution_count": 10,
     "metadata": {},
     "output_type": "execute_result"
    }
   ],
   "source": [
    "# Check the null values in the dataset\n",
    "data.isnull().any()"
   ]
  },
  {
   "cell_type": "code",
   "execution_count": 11,
   "metadata": {},
   "outputs": [
    {
     "data": {
      "text/html": [
       "<div>\n",
       "<style scoped>\n",
       "    .dataframe tbody tr th:only-of-type {\n",
       "        vertical-align: middle;\n",
       "    }\n",
       "\n",
       "    .dataframe tbody tr th {\n",
       "        vertical-align: top;\n",
       "    }\n",
       "\n",
       "    .dataframe thead th {\n",
       "        text-align: right;\n",
       "    }\n",
       "</style>\n",
       "<table border=\"1\" class=\"dataframe\">\n",
       "  <thead>\n",
       "    <tr style=\"text-align: right;\">\n",
       "      <th></th>\n",
       "      <th>Temperature</th>\n",
       "      <th>Humidity</th>\n",
       "    </tr>\n",
       "  </thead>\n",
       "  <tbody>\n",
       "    <tr>\n",
       "      <th>0</th>\n",
       "      <td>49.05</td>\n",
       "      <td>0.89</td>\n",
       "    </tr>\n",
       "    <tr>\n",
       "      <th>1</th>\n",
       "      <td>48.84</td>\n",
       "      <td>0.86</td>\n",
       "    </tr>\n",
       "    <tr>\n",
       "      <th>2</th>\n",
       "      <td>48.88</td>\n",
       "      <td>0.89</td>\n",
       "    </tr>\n",
       "    <tr>\n",
       "      <th>3</th>\n",
       "      <td>46.92</td>\n",
       "      <td>0.83</td>\n",
       "    </tr>\n",
       "    <tr>\n",
       "      <th>4</th>\n",
       "      <td>47.76</td>\n",
       "      <td>0.83</td>\n",
       "    </tr>\n",
       "  </tbody>\n",
       "</table>\n",
       "</div>"
      ],
      "text/plain": [
       "   Temperature  Humidity\n",
       "0        49.05      0.89\n",
       "1        48.84      0.86\n",
       "2        48.88      0.89\n",
       "3        46.92      0.83\n",
       "4        47.76      0.83"
      ]
     },
     "execution_count": 11,
     "metadata": {},
     "output_type": "execute_result"
    }
   ],
   "source": [
    "data.head()"
   ]
  },
  {
   "cell_type": "code",
   "execution_count": 12,
   "metadata": {},
   "outputs": [],
   "source": [
    "# Replace the nan values with median of column 'Temp'\n",
    "data['Temperature'] = data['Temperature'].replace(0, np.NaN)"
   ]
  },
  {
   "cell_type": "code",
   "execution_count": 13,
   "metadata": {},
   "outputs": [],
   "source": [
    "# Replace the nan values with median of column 'Temp'\n",
    "data['Humidity'] = data['Humidity'].replace(0, np.NaN)"
   ]
  },
  {
   "cell_type": "code",
   "execution_count": 14,
   "metadata": {},
   "outputs": [
    {
     "data": {
      "text/plain": [
       "Temperature    False\n",
       "Humidity        True\n",
       "dtype: bool"
      ]
     },
     "execution_count": 14,
     "metadata": {},
     "output_type": "execute_result"
    }
   ],
   "source": [
    "# Check the null values in the dataset\n",
    "data.isnull().any()"
   ]
  },
  {
   "cell_type": "code",
   "execution_count": 15,
   "metadata": {},
   "outputs": [],
   "source": [
    "data['Humidity'] = data['Humidity'].replace(np.NaN, data['Humidity'].mean())\n",
    "data['Temperature'] = data['Temperature'].replace(np.NaN, data['Temperature'].mean())"
   ]
  },
  {
   "cell_type": "code",
   "execution_count": 16,
   "metadata": {},
   "outputs": [
    {
     "data": {
      "text/plain": [
       "Temperature    False\n",
       "Humidity       False\n",
       "dtype: bool"
      ]
     },
     "execution_count": 16,
     "metadata": {},
     "output_type": "execute_result"
    }
   ],
   "source": [
    "data.isnull().any()"
   ]
  },
  {
   "cell_type": "code",
   "execution_count": 17,
   "metadata": {},
   "outputs": [
    {
     "data": {
      "text/plain": [
       "37368"
      ]
     },
     "execution_count": 17,
     "metadata": {},
     "output_type": "execute_result"
    }
   ],
   "source": [
    "data.duplicated().sum()"
   ]
  },
  {
   "cell_type": "code",
   "execution_count": 18,
   "metadata": {},
   "outputs": [
    {
     "data": {
      "text/plain": [
       "<matplotlib.axes._subplots.AxesSubplot at 0x7f279ccc0198>"
      ]
     },
     "execution_count": 18,
     "metadata": {},
     "output_type": "execute_result"
    },
    {
     "data": {
      "image/png": "[encoded data removed]",
      "text/plain": [
       "<Figure size 432x288 with 1 Axes>"
      ]
     },
     "metadata": {},
     "output_type": "display_data"
    }
   ],
   "source": [
    "# Boxplot to find the outliers in the Temp column\n",
    "sb.boxplot(data['Temperature'])"
   ]
  },
  {
   "cell_type": "code",
   "execution_count": 19,
   "metadata": {},
   "outputs": [
    {
     "data": {
      "text/plain": [
       "<matplotlib.axes._subplots.AxesSubplot at 0x7f2799deaa20>"
      ]
     },
     "execution_count": 19,
     "metadata": {},
     "output_type": "execute_result"
    },
    {
     "data": {
      "image/png": "[encoded data removed]",
      "text/plain": [
       "<Figure size 432x288 with 1 Axes>"
      ]
     },
     "metadata": {},
     "output_type": "display_data"
    }
   ],
   "source": [
    "# Boxplot to find the outliers in the Temp column\n",
    "sb.boxplot(data['Humidity'])"
   ]
  },
  {
   "cell_type": "code",
   "execution_count": 22,
   "metadata": {},
   "outputs": [
    {
     "data": {
      "text/plain": [
       "<matplotlib.axes._subplots.AxesSubplot at 0x7f2799d07748>"
      ]
     },
     "execution_count": 22,
     "metadata": {},
     "output_type": "execute_result"
    },
    {
     "data": {
      "image/png": "[encoded data removed]",
      "text/plain": [
       "<Figure size 432x288 with 1 Axes>"
      ]
     },
     "metadata": {},
     "output_type": "display_data"
    }
   ],
   "source": [
    "# Remove the outlier from the whole dataset\n",
    "def remove_outlier(data):\n",
    "    low = .20\n",
    "    high = .80\n",
    "    quant_df = data.quantile([low, high])\n",
    "    for name in list(data.columns):\n",
    "        if is_numeric_dtype(data[name]):\n",
    "            data = data[(data[name] > quant_df.loc[low, name]) & (data[name] < quant_df.loc[high, name])]\n",
    "    return data\n",
    "\n",
    "data = remove_outlier(data)\n",
    "sb.boxplot(data)"
   ]
  },
  {
   "cell_type": "code",
   "execution_count": 23,
   "metadata": {},
   "outputs": [
    {
     "data": {
      "text/plain": [
       "(array([2035., 1932., 2946., 3199., 3626., 3022., 5386., 5835., 4971.,\n",
       "        5436.]),\n",
       " array([0.56 , 0.595, 0.63 , 0.665, 0.7  , 0.735, 0.77 , 0.805, 0.84 ,\n",
       "        0.875, 0.91 ]),\n",
       " <a list of 10 Patch objects>)"
      ]
     },
     "execution_count": 23,
     "metadata": {},
     "output_type": "execute_result"
    },
    {
     "data": {
      "image/png": "[encoded data removed]",
      "text/plain": [
       "<Figure size 432x288 with 1 Axes>"
      ]
     },
     "metadata": {},
     "output_type": "display_data"
    }
   ],
   "source": [
    "# Histrogram of the feature varibale\n",
    "plt.hist(data['Humidity'])"
   ]
  },
  {
   "cell_type": "code",
   "execution_count": 24,
   "metadata": {},
   "outputs": [
    {
     "data": {
      "text/plain": [
       "<matplotlib.axes._subplots.AxesSubplot at 0x7f2799c7fa90>"
      ]
     },
     "execution_count": 24,
     "metadata": {},
     "output_type": "execute_result"
    },
    {
     "data": {
      "image/png": "[encoded data removed]",
      "text/plain": [
       "<Figure size 432x288 with 1 Axes>"
      ]
     },
     "metadata": {},
     "output_type": "display_data"
    }
   ],
   "source": [
    "# Distplot of the feature varibale\n",
    "sb.distplot(data['Humidity'])"
   ]
  },
  {
   "cell_type": "code",
   "execution_count": 25,
   "metadata": {},
   "outputs": [
    {
     "name": "stdout",
     "output_type": "stream",
     "text": [
      "Mean is 0.7687998853808878 -0.4316725059790226 , Median is  0.78\n"
     ]
    }
   ],
   "source": [
    "# Mean and median of the Humidity column \n",
    "print(\"Mean is\", data['Humidity'].mean(), data['Humidity'].skew(), \", Median is \", data['Humidity'].median())"
   ]
  },
  {
   "cell_type": "code",
   "execution_count": 26,
   "metadata": {},
   "outputs": [
    {
     "name": "stdout",
     "output_type": "stream",
     "text": [
      "Skewness is -0.2550198356706362\n",
      "0.6002835287069406 0.6084\n"
     ]
    },
    {
     "data": {
      "image/png": "[encoded data removed]",
      "text/plain": [
       "<Figure size 432x288 with 1 Axes>"
      ]
     },
     "metadata": {},
     "output_type": "display_data"
    }
   ],
   "source": [
    "# now transforming feature variable\n",
    "target = (np.square((data['Humidity'])))\n",
    "print ('Skewness is', target.skew())\n",
    "sb.distplot(target)\n",
    "print(target.mean(), target.median())\n",
    "data['Humidity'] = target"
   ]
  },
  {
   "cell_type": "code",
   "execution_count": 27,
   "metadata": {},
   "outputs": [
    {
     "data": {
      "text/plain": [
       "(array([2794., 3831., 4484., 3569., 4080., 4489., 4090., 3152., 4424.,\n",
       "        3475.]),\n",
       " array([37.1  , 40.289, 43.478, 46.667, 49.856, 53.045, 56.234, 59.423,\n",
       "        62.612, 65.801, 68.99 ]),\n",
       " <a list of 10 Patch objects>)"
      ]
     },
     "execution_count": 27,
     "metadata": {},
     "output_type": "execute_result"
    },
    {
     "data": {
      "image/png": "[encoded data removed]",
      "text/plain": [
       "<Figure size 432x288 with 1 Axes>"
      ]
     },
     "metadata": {},
     "output_type": "display_data"
    }
   ],
   "source": [
    "# Histrogram of the target varibale\n",
    "plt.hist(data['Temperature'])"
   ]
  },
  {
   "cell_type": "code",
   "execution_count": 28,
   "metadata": {},
   "outputs": [
    {
     "data": {
      "text/plain": [
       "<matplotlib.axes._subplots.AxesSubplot at 0x7f2799be4278>"
      ]
     },
     "execution_count": 28,
     "metadata": {},
     "output_type": "execute_result"
    },
    {
     "data": {
      "image/png": "[encoded data removed]",
      "text/plain": [
       "<Figure size 432x288 with 1 Axes>"
      ]
     },
     "metadata": {},
     "output_type": "display_data"
    }
   ],
   "source": [
    "# Distplot of the feature varibale\n",
    "sb.distplot(data['Temperature'])"
   ]
  },
  {
   "cell_type": "code",
   "execution_count": 29,
   "metadata": {},
   "outputs": [
    {
     "name": "stdout",
     "output_type": "stream",
     "text": [
      "Mean is 53.242765708033225 , Median is  53.68 -0.0012836200780655673\n"
     ]
    }
   ],
   "source": [
    "print(\"Mean is\", data['Temperature'].mean(), \", Median is \", data['Temperature'].median(), data['Temperature'].skew())"
   ]
  },
  {
   "cell_type": "code",
   "execution_count": 30,
   "metadata": {},
   "outputs": [
    {
     "name": "stdout",
     "output_type": "stream",
     "text": [
      "Skewness is 0.2078260697744959\n",
      "2911.993271238449 2881.5424\n"
     ]
    },
    {
     "data": {
      "image/png": "[encoded data removed]",
      "text/plain": [
       "<Figure size 432x288 with 1 Axes>"
      ]
     },
     "metadata": {},
     "output_type": "display_data"
    }
   ],
   "source": [
    "# now transforming feature variable\n",
    "target = (np.square((data['Temperature'])))\n",
    "print ('Skewness is', target.skew())\n",
    "sb.distplot(target)\n",
    "print(target.mean(), target.median())\n",
    "data['Temperature'] = target"
   ]
  },
  {
   "cell_type": "code",
   "execution_count": 31,
   "metadata": {},
   "outputs": [
    {
     "data": {
      "image/png": "[encoded data removed]",
      "text/plain": [
       "<Figure size 1152x576 with 1 Axes>"
      ]
     },
     "metadata": {},
     "output_type": "display_data"
    }
   ],
   "source": [
    "fig, ax = plt.subplots(figsize=(16,8))\n",
    "ax.scatter(data['Humidity'], data['Temperature'])\n",
    "plt.show()"
   ]
  },
  {
   "cell_type": "code",
   "execution_count": null,
   "metadata": {},
   "outputs": [],
   "source": [
    "class LinearRegression:\n",
    "\n",
    "    def __init__(self):\n",
    "        self.alpha = 0.001\n",
    "        self.echops = 1500\n",
    "\n",
    "    def gradient_descent(self, x_train_data, y_train_data, theta0 = 1, theta1 = 0):\n",
    "        N = len(y_train_data)\n",
    "\n",
    "        for i in range(self.echops):\n",
    "            y_curr_data = (theta0 * x_train_data) + theta1\n",
    "\n",
    "            cost = sum([data ** 2 for data in (y_train_data - y_curr_data)]) / N\n",
    "\n",
    "            intercept_grad = (-2 / N) * sum(y_train_data - y_curr_data)\n",
    "            slope_grad = (-2 / N) * sum(x_train_data * (y_train_data - y_curr_data))\n",
    "\n",
    "            theta0 -= self.alpha * slope_grad\n",
    "            theta1 -= self.alpha * intercept_grad\n",
    "\n",
    "        return theta0, theta1, cost\n",
    "\n",
    "    def test(self, x_test_data, theta0, theta1):\n",
    "         y_pred = np.array([])\n",
    "         for i in range(len(x_test_data)):\n",
    "             y_pred_val = theta0 + theta1 * x_test_data[i]\n",
    "             y_pred = np.append(y_pred, y_pred_val)\n",
    "\n",
    "         return y_pred\n",
    "\n",
    "    def accuracy(self, y_test_data, y_pred):\n",
    "         total_error = 0\n",
    "         for i in range(len(y_test_data)):\n",
    "             total_error += (abs((y_pred[i] - y_test_data[i]) / y_test_data[i]))\n",
    "\n",
    "         total_error = total_error / len(y_test_data)\n",
    "         accuracy = (1 - total_error) * 100\n",
    "\n",
    "         return accuracy\n",
    "\n",
    "    def feature_scaling(self, x_data):\n",
    "        result = np.array([])\n",
    "        for i in range(len(x_data)):\n",
    "            x_std = (x_data[i] - np.mean(x_data)) / np.std(x_data)\n",
    "            result = np.append(x_std, result)\n",
    "        return result\n",
    "    \n",
    "    def plotgraph(self, x_data_test, y_data_test, y_pred, x_data_train, y_data_train):\n",
    "        plt.scatter(x_data_train, y_data_train, color='g', label='Train Data Set')\n",
    "        plt.plot(x_data_test, y_pred, color='r', label='Predicted Values')\n",
    "        plt.legend()\n",
    "        plt.show()\n",
    "        plt.scatter(x_data_test, y_data_test, color='g', label='Train Data Set')\n",
    "        plt.plot(x_data_test, y_pred, color='r', label='Predicted Values')\n",
    "        plt.legend()\n",
    "        plt.show()\n",
    "\n",
    "\n",
    "def main():\n",
    "    lr = LinearRegression()\n",
    "\n",
    "    \n",
    "    train_size = int(np.ceil((len(data) * 0.8)))\n",
    "    test_size = int(len(data) - train_size)\n",
    "    \n",
    "    x_train_data = np.array(data[\"Humidity\"][:train_size])\n",
    "    y_train_data = np.array(data[\"Temperature\"][:train_size])\n",
    "    \n",
    "    x_test_data = np.array(data[\"Humidity\"][train_size:])\n",
    "    y_test_data = np.array(data[\"Temperature\"][train_size:])\n",
    "\n",
    "    \n",
    "    theta_0_arr, theta_1_arr, cost_arr = lr.gradient_descent(x_train_data, y_train_data)\n",
    "    print(theta_0_arr, theta_1_arr)\n",
    "    \n",
    "    y_pred = lr.test(x_test_data, theta_0_arr, theta_1_arr)\n",
    "    \n",
    "    accuracy = lr.accuracy(y_test_data, y_pred)\n",
    "    print(\"Accuracy is \", accuracy)\n",
    "    \n",
    "    lr.plotgraph(x_test_data, y_test_data, y_pred, x_train_data, y_train_data)    \n",
    "    print(\"Test data accuracy \", accuracy)    \n",
    "\n",
    "\n",
    "if __name__ == '__main__':\n",
    "    main()"
   ]
  },
  {
   "cell_type": "code",
   "execution_count": null,
   "metadata": {},
   "outputs": [],
   "source": []
  }
 ],
 "metadata": {
  "kernelspec": {
   "display_name": "Python [conda env:anaconda3]",
   "language": "python",
   "name": "conda-env-anaconda3-py"
  },
  "language_info": {
   "codemirror_mode": {
    "name": "ipython",
    "version": 3
   },
   "file_extension": ".py",
   "mimetype": "text/x-python",
   "name": "python",
   "nbconvert_exporter": "python",
   "pygments_lexer": "ipython3",
   "version": "3.5.5"
  }
 },
 "nbformat": 4,
 "nbformat_minor": 2
}
